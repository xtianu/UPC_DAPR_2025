{
  "nbformat": 4,
  "nbformat_minor": 0,
  "metadata": {
    "colab": {
      "provenance": []
    },
    "kernelspec": {
      "name": "python3",
      "display_name": "Python 3"
    },
    "language_info": {
      "name": "python"
    }
  },
  "cells": [
    {
      "cell_type": "markdown",
      "source": [
        "# **TASK 2 (Mandatory)**\n",
        "Deadline: 05/10/2025\n",
        "\n"
      ],
      "metadata": {
        "id": "essWi6Ci7-51"
      }
    },
    {
      "cell_type": "markdown",
      "source": [
        "# 1. Load a database with at least 4 numerical features from one of these data repositories:\n",
        "\n",
        "---\n",
        "\n",
        "- Kaggle.com: https://www.kaggle.com/\n",
        "- UCI datasets: https://archive.ics.uci.edu/datasets\n",
        "- Scikit-learn built-in toy datasets: https://scikitlearn.\n",
        "org/stable/datasets/toy_dataset.html\n",
        "- Seaborn datasets:\n",
        "https://seaborn.pydata.org/generated/seaborn.load_dataset.html"
      ],
      "metadata": {
        "id": "0swT8h-qz8ki"
      }
    },
    {
      "cell_type": "markdown",
      "source": [
        "# 2. Convert data into q pandas dataframe and remove non-numerical features."
      ],
      "metadata": {
        "id": "Z70cWB1O0jmF"
      }
    },
    {
      "cell_type": "markdown",
      "source": [
        "# 3. Handle the potential presence of missing data (dropna, fillna or KNNImputer)"
      ],
      "metadata": {
        "id": "aDpIpxNh0mXF"
      }
    },
    {
      "cell_type": "markdown",
      "source": [
        "# 4. Visualize the numerical features using a seaborn pairplot\n",
        "https://seaborn.pydata.org/generated/seaborn.pairplot.html"
      ],
      "metadata": {
        "id": "eopY45VI0ziW"
      }
    },
    {
      "cell_type": "markdown",
      "source": [
        "# 5. Perform a dimensionality reduction of the dataset using PCA."
      ],
      "metadata": {
        "id": "LjInY96M09Il"
      }
    },
    {
      "cell_type": "markdown",
      "source": [
        "# 6. Cluster the PCA-projected data using a clustering algorithm (k-means, Agglomerative clustering or GMM)"
      ],
      "metadata": {
        "id": "d-b2BK1o1DHS"
      }
    },
    {
      "cell_type": "markdown",
      "source": [
        "# 7. Visualize the resulting clusters and make a discussion of the obtained results."
      ],
      "metadata": {
        "id": "cQfn0Lmu1G7s"
      }
    },
    {
      "cell_type": "markdown",
      "source": [
        "\n",
        "\n",
        "---\n",
        "\n"
      ],
      "metadata": {
        "id": "RoQdLJQD1a_x"
      }
    }
  ]
}